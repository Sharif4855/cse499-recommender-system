{
 "cells": [
  {
   "cell_type": "code",
   "execution_count": null,
   "metadata": {},
   "outputs": [],
   "source": [
    "import numpy as np\n",
    "import pandas as pd\n",
    "\n",
    "%precision 4"
   ]
  },
  {
   "cell_type": "code",
   "execution_count": 200,
   "metadata": {},
   "outputs": [],
   "source": [
    "userDframe = pd.read_csv('data.csv')\n",
    "cleanedData = cleanAndNormalizeData(userDframe)\n",
    "\n",
    "#userList=list(set(cleanedData['user_id']))\n",
    "#dealList=list(set(cleanedData['deal_id']))\n",
    "\n",
    "#print(len(userList))\n",
    "\n",
    "cleanedData.head()\n",
    "cleanedData.shape\n",
    "iniData = randomRating(cleanedData)\n",
    "iniData.to_csv('out.csv', encoding='utf-8', index=False)"
   ]
  },
  {
   "cell_type": "code",
   "execution_count": 152,
   "metadata": {},
   "outputs": [],
   "source": [
    "#Cleaning data\n",
    "#Dropping rows where impression_time<=0; because without seeing the user can't take any swipe action\n",
    "#Dropping rows where impression_time >= 90000ms; this will be done because almost 99% values are in this range(<100000ms).\n",
    "\n",
    "def cleanAndNormalizeData(userDataframe):\n",
    "    indexNames = userDataframe[(userDataframe['impression_time'] <= 0) | (userDataframe['impression_time'] > 100000)].index\n",
    "    modifiedData= userDataframe.drop(indexNames, axis=0)\n",
    "    modifiedData['swipe_direction'].replace('SWIPED_OUT',-1,inplace=True)\n",
    "    modifiedData['swipe_direction'].replace('SWIPED_IN',1,inplace=True)\n",
    "    \n",
    "    modifiedNormalizedData=getZScore(modifiedData)\n",
    "    return modifiedNormalizedData"
   ]
  },
  {
   "cell_type": "code",
   "execution_count": 128,
   "metadata": {},
   "outputs": [],
   "source": [
    "#Using Z-score normaliztion to normalize the impression_time column\n",
    "def getZScore(modifiedData):\n",
    "    z_score = (modifiedData['impression_time'] - modifiedData['impression_time'].mean())/modifiedData['impression_time'].std()\n",
    "    modifiedData['z_score']=z_score\n",
    "    return modifiedData"
   ]
  },
  {
   "cell_type": "code",
   "execution_count": 196,
   "metadata": {},
   "outputs": [],
   "source": [
    "def randomRating(cleanedData):\n",
    "    cleanedData['rating']=np.random.randint(4000,5000,cleanedData.shape[0])\n",
    "    #if(cleanedData.loc[(cleanedData.swipe_direction == 1)]:\n",
    "        #cleanedData['rating'] = cleanedData(np.random.uniform(low=0.45, high=0.5))\n",
    "    #elif(cleanedData['swipe_direction'] == -1):\n",
    "        #cleanedData['rating'] = cleanedData(np.random.uniform(low=0.45, high=0.5))\n",
    "    cleanedData['rating']=cleanedData['rating']/10000   \n",
    "        \n",
    "        \n",
    "    return cleanedData"
   ]
  },
  {
   "cell_type": "code",
   "execution_count": null,
   "metadata": {},
   "outputs": [],
   "source": []
  }
 ],
 "metadata": {
  "kernelspec": {
   "display_name": "Python 3",
   "language": "python",
   "name": "python3"
  },
  "language_info": {
   "codemirror_mode": {
    "name": "ipython",
    "version": 3
   },
   "file_extension": ".py",
   "mimetype": "text/x-python",
   "name": "python",
   "nbconvert_exporter": "python",
   "pygments_lexer": "ipython3",
   "version": "3.7.1"
  }
 },
 "nbformat": 4,
 "nbformat_minor": 2
}
