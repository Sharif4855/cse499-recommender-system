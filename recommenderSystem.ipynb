{
 "cells": [
  {
   "cell_type": "code",
   "execution_count": 166,
   "metadata": {},
   "outputs": [
    {
     "data": {
      "text/plain": [
       "'%.4f'"
      ]
     },
     "execution_count": 166,
     "metadata": {},
     "output_type": "execute_result"
    }
   ],
   "source": [
    "import numpy as np\n",
    "import pandas as pd\n",
    "import matplotlib.pyplot as plt\n",
    "%precision 4"
   ]
  },
  {
   "cell_type": "code",
   "execution_count": 157,
   "metadata": {
    "scrolled": false
   },
   "outputs": [
    {
     "name": "stdout",
     "output_type": "stream",
     "text": [
      "[[ 0.4504]\n",
      " [-0.0024]\n",
      " [ 0.0029]] 10134055616513\n",
      "[[ 0.4218]\n",
      " [ 0.0399]\n",
      " [-0.1263]] 10128184674056\n",
      "[[ 4.4152e-01]\n",
      " [-7.4543e-03]\n",
      " [-8.8218e-05]] 10134011535754\n",
      "[[0.4292]\n",
      " [0.0274]\n",
      " [0.0101]] 10134016049164\n",
      "[[ 0.4156]\n",
      " [-0.0271]\n",
      " [ 0.0049]] 10134012147603\n",
      "[[ 0.2261]\n",
      " [ 0.2261]\n",
      " [-0.0056]] 10128110003733\n",
      "[[ 0.4341]\n",
      " [ 0.0029]\n",
      " [-0.0451]] 10160362424221\n",
      "[[0.446 ]\n",
      " [0.004 ]\n",
      " [0.0005]] 10134040303649\n",
      "[[0.3446]\n",
      " [0.1097]\n",
      " [0.0179]] 10134051513507\n",
      "[[ 0.452 ]\n",
      " [-0.0043]\n",
      " [-0.002 ]] 10128184954279\n",
      "[[ 0.2229]\n",
      " [ 0.2229]\n",
      " [-0.0726]] 10153747215666\n",
      "[[ 0.2268]\n",
      " [-0.2268]\n",
      " [ 0.011 ]] 10134071009718\n",
      "[[ 0.448 ]\n",
      " [-0.0014]\n",
      " [-0.0246]] 10128110002624\n",
      "[[0.4452]\n",
      " [0.0179]\n",
      " [0.0121]] 10134023845956\n",
      "[[ 0.2148]\n",
      " [-0.2148]\n",
      " [ 0.1069]] 10153719210054\n",
      "[[ 0.4427]\n",
      " [-0.0028]\n",
      " [ 0.0012]] 10153747215688\n",
      "[[ 0.4507]\n",
      " [-0.001 ]\n",
      " [-0.0018]] 10134015329369\n",
      "[[ 0.3925]\n",
      " [-0.0603]\n",
      " [ 0.0054]] 10128188699866\n",
      "[[ 4.5042e-01]\n",
      " [-3.7655e-03]\n",
      " [-2.2349e-04]] 10134011588060\n",
      "[[ 0.2139]\n",
      " [-0.2139]\n",
      " [-0.0744]] 10134018256604\n",
      "[[0.4533]\n",
      " [0.0017]\n",
      " [0.0056]] 10160329988703\n",
      "[[ 0.4447]\n",
      " [-0.0005]\n",
      " [-0.0025]] 10128110000610\n",
      "[[ 0.4394]\n",
      " [-0.0102]\n",
      " [-0.058 ]] 10128111218020\n",
      "[[ 0.4544]\n",
      " [-0.0038]\n",
      " [ 0.0015]] 10134011546475\n",
      "[[ 0.364 ]\n",
      " [-0.0839]\n",
      " [-0.0102]] 10128174484846\n",
      "[[ 0.4362]\n",
      " [ 0.0182]\n",
      " [-0.0781]] 10134070550268\n",
      "[[ 0.4547]\n",
      " [-0.0009]\n",
      " [ 0.0135]] 10160366662143\n"
     ]
    }
   ],
   "source": [
    "userDframe = pd.read_csv('data.csv')\n",
    "cleanedData = cleanAndNormalizeData(userDframe)\n",
    "\n",
    "iniData = randomRating(cleanedData)\n",
    "getOptimalTheta(iniData)\n"
   ]
  },
  {
   "cell_type": "code",
   "execution_count": 158,
   "metadata": {},
   "outputs": [],
   "source": [
    "def getOptimalTheta(iniData):\n",
    "    userList = list(set(iniData['user_id']))\n",
    "    iniData['bias_unit'] = 1\n",
    "    #iniData.to_csv('out.csv', encoding='utf-8', index=False)\n",
    "    \n",
    "    iniTheta = [[0],[0],[0]]\n",
    "    alpha = 0.01\n",
    "    num_iters = 1500\n",
    "    optimal =  []\n",
    "    for user in userList:\n",
    "        tempItems = iniData.loc[iniData['user_id'] == user]\n",
    "        userItems = tempItems[['bias_unit','swipe_direction','z_score','rating']]\n",
    "        featureVec = userItems.iloc[:,[0,1,2]].values\n",
    "        resultVec = userItems.iloc[:,[3]].values\n",
    "        optimalTheta = gradientDescent(featureVec,resultVec,iniTheta,alpha,num_iters)\n",
    "        #cost=computeCost(X,y,optimalTheta)\n",
    "        #iniData.to_csv('out.csv', encoding='utf-8', index=False)\n",
    "        print(optimalTheta, user)"
   ]
  },
  {
   "cell_type": "code",
   "execution_count": 159,
   "metadata": {},
   "outputs": [],
   "source": [
    "#Cleaning data\n",
    "#Dropping rows where impression_time<=0; because without seeing the user can't take any swipe action\n",
    "#Dropping rows where impression_time >= 90000ms; this will be done because almost 99% values are in this range(<100000ms).\n",
    "\n",
    "def cleanAndNormalizeData(userDataframe):\n",
    "    indexNames = userDataframe[(userDataframe['impression_time'] <= 0) | (userDataframe['impression_time'] > 100000)].index\n",
    "    modifiedData= userDataframe.drop(indexNames, axis=0)\n",
    "    modifiedData['swipe_direction'].replace('SWIPED_OUT',-1,inplace = True)\n",
    "    modifiedData['swipe_direction'].replace('SWIPED_IN',1,inplace = True)\n",
    "    \n",
    "    modifiedNormalizedData = getZScore(modifiedData)\n",
    "    return modifiedNormalizedData"
   ]
  },
  {
   "cell_type": "code",
   "execution_count": 160,
   "metadata": {},
   "outputs": [],
   "source": [
    "#Using Z-score normaliztion to normalize the impression_time column\n",
    "\n",
    "def getZScore(modifiedData):\n",
    "    z_score = (modifiedData['impression_time'] - modifiedData['impression_time'].mean())/modifiedData['impression_time'].std()\n",
    "    modifiedData['z_score'] = z_score\n",
    "    return modifiedData"
   ]
  },
  {
   "cell_type": "code",
   "execution_count": 164,
   "metadata": {},
   "outputs": [],
   "source": [
    "def randomRating(cleanedData):\n",
    "    cleanedData['rating'] = np.random.randint(4000,5000,cleanedData.shape[0])\n",
    "    cleanedData['rating'] = cleanedData['rating']/10000  \n",
    "        \n",
    "    return cleanedData"
   ]
  },
  {
   "cell_type": "code",
   "execution_count": 162,
   "metadata": {},
   "outputs": [],
   "source": [
    "def computeCost(featureVec, resultVec, theta):\n",
    "    m = resultVec.size\n",
    "    J = 0\n",
    "    \n",
    "    hypothesis = featureVec.dot(theta)\n",
    "    \n",
    "    J = 1/(2*m)*np.sum(np.square(hypothesis-resultVec))\n",
    "    \n",
    "    return(J)"
   ]
  },
  {
   "cell_type": "code",
   "execution_count": 165,
   "metadata": {},
   "outputs": [],
   "source": [
    "def gradientDescent(featureVec, resultVec, theta, alpha, num_iters):\n",
    "    m = resultVec.size\n",
    "    J_history = np.zeros(num_iters)\n",
    "    \n",
    "    for iter in np.arange(num_iters):\n",
    "        hypothesis = featureVec.dot(theta)\n",
    "        theta = theta - alpha*(1/m)*(featureVec.T.dot(hypothesis-resultVec))\n",
    "    return(theta)"
   ]
  },
  {
   "cell_type": "code",
   "execution_count": null,
   "metadata": {},
   "outputs": [],
   "source": []
  }
 ],
 "metadata": {
  "kernelspec": {
   "display_name": "Python 3",
   "language": "python",
   "name": "python3"
  },
  "language_info": {
   "codemirror_mode": {
    "name": "ipython",
    "version": 3
   },
   "file_extension": ".py",
   "mimetype": "text/x-python",
   "name": "python",
   "nbconvert_exporter": "python",
   "pygments_lexer": "ipython3",
   "version": "3.7.1"
  }
 },
 "nbformat": 4,
 "nbformat_minor": 2
}
