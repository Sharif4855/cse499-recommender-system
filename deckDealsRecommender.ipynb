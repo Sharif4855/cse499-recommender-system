{
 "cells": [
  {
   "cell_type": "code",
   "execution_count": null,
   "metadata": {},
   "outputs": [],
   "source": [
    "import pandas as pd\n",
    "import numpy as np\n",
    "import csv\n",
    "\n",
    "%precision 3\n",
    "\n",
    "#Loading data file using csv library \n",
    "with open('data.csv') as f:\n",
    "    userData = csv.reader(f)\n",
    "    for data in userData:\n",
    "        print(data)\n",
    "\n",
    "#for row in userData:\n",
    "    "
   ]
  },
  {
   "cell_type": "code",
   "execution_count": null,
   "metadata": {},
   "outputs": [],
   "source": []
  },
  {
   "cell_type": "code",
   "execution_count": null,
   "metadata": {},
   "outputs": [],
   "source": [
    "def initialize_mat(userData):\n",
    "\n",
    "    #Retriving user and deal list and size\n",
    "    listOfUser = sorted(set(data['user_id'] for data in userData) )\n",
    "    listOfDeal = sorted(set(data['deal_id'] for data in userData))\n",
    "\n",
    "    lenOfUser = len(listOfUser)\n",
    "    lenOfDeal = len(listOfDeal)\n",
    "    \n",
    "\n",
    "       \n",
    "    #Random initialization of User * Deals matrix\n",
    "        \n",
    "    userDealMat = np.random.uniform(low=0.4, high=0.5, size=(lenOfUser,lenOfDeal))\n",
    "\n",
    "    #labeling rows and columns depending on user and deals\n",
    "    udMat= pd.DataFrame(userDealMat, columns=listOfDeal, index=listOfUser)\n",
    "    \n",
    "\n"
   ]
  },
  {
   "cell_type": "code",
   "execution_count": null,
   "metadata": {},
   "outputs": [],
   "source": [
    "# initialize_mat(userData)\n",
    "print(udMat)"
   ]
  },
  {
   "cell_type": "code",
   "execution_count": null,
   "metadata": {},
   "outputs": [],
   "source": []
  },
  {
   "cell_type": "code",
   "execution_count": null,
   "metadata": {},
   "outputs": [],
   "source": []
  }
 ],
 "metadata": {
  "kernelspec": {
   "display_name": "Python 3",
   "language": "python",
   "name": "python3"
  },
  "language_info": {
   "codemirror_mode": {
    "name": "ipython",
    "version": 3
   },
   "file_extension": ".py",
   "mimetype": "text/x-python",
   "name": "python",
   "nbconvert_exporter": "python",
   "pygments_lexer": "ipython3",
   "version": "3.7.1"
  }
 },
 "nbformat": 4,
 "nbformat_minor": 2
}
